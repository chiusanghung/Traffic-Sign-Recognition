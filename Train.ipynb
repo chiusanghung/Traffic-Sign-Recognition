{
  "cells": [
    {
      "cell_type": "markdown",
      "metadata": {
        "id": "view-in-github",
        "colab_type": "text"
      },
      "source": [
        "<a href=\"https://colab.research.google.com/github/chiusanghung/Traffic-Sign-Recognition/blob/main/Train.ipynb\" target=\"_parent\"><img src=\"https://colab.research.google.com/assets/colab-badge.svg\" alt=\"Open In Colab\"/></a>"
      ]
    },
    {
      "cell_type": "code",
      "execution_count": null,
      "metadata": {
        "id": "vbegqJ1lyd0c",
        "colab": {
          "base_uri": "https://localhost:8080/"
        },
        "outputId": "66a4ecd2-9d1c-4fc8-964c-ce0f4e1c9c74"
      },
      "outputs": [
        {
          "output_type": "stream",
          "name": "stdout",
          "text": [
            "Drive already mounted at /content/drive; to attempt to forcibly remount, call drive.mount(\"/content/drive\", force_remount=True).\n"
          ]
        }
      ],
      "source": [
        "from google.colab import drive\n",
        "drive.mount('/content/drive')"
      ]
    },
    {
      "cell_type": "code",
      "execution_count": null,
      "metadata": {
        "colab": {
          "base_uri": "https://localhost:8080/"
        },
        "id": "Dn5X4QrWnErU",
        "outputId": "580ef283-eb5f-4a6f-f642-ac6513262198"
      },
      "outputs": [
        {
          "output_type": "stream",
          "name": "stdout",
          "text": [
            "Mounted at /content/drive\n",
            "Found 1641 images belonging to 30 classes.\n",
            "Found 96 images belonging to 30 classes.\n"
          ]
        }
      ],
      "source": [
        "from tensorflow.keras.preprocessing.image import ImageDataGenerator\n",
        "drive.mount('/content/drive',force_remount=True)\n",
        "\n",
        "train_datagen = ImageDataGenerator(rescale=1./255,\n",
        "                                   shear_range=0.2,\n",
        "                                   zoom_range=0.2,\n",
        "                                   horizontal_flip=True)\n",
        "train=train_datagen.flow_from_directory('/content/drive/MyDrive/Dataset/Train',\n",
        "                                               target_size=(64,64),\n",
        "                                               batch_size=32,\n",
        "                                               class_mode ='categorical')\n",
        "test=train_datagen.flow_from_directory('/content/drive/MyDrive/Dataset/Test',\n",
        "                                               target_size=(64,64),\n",
        "                                               batch_size=32,\n",
        "                                               class_mode ='categorical')"
      ]
    },
    {
      "cell_type": "code",
      "source": [
        "import tensorflow as tf\n",
        "from tensorflow import keras\n",
        "from keras.models import Sequential\n",
        "from keras.layers.convolutional import Conv2D, MaxPooling2D\n",
        "from keras.layers import Flatten, Dense, Dropout, Activation\n",
        "\n",
        "model = Sequential()\n",
        "model.add(Conv2D(32,(3,3),activation = 'relu',kernel_initializer='he_uniform',padding='same',input_shape=(64,64,3)))\n",
        "model.add(Conv2D(32,(3,3),activation = 'relu',kernel_initializer='he_uniform',padding='same'))\n",
        "model.add(MaxPooling2D((2,2)))\n",
        "model.add(Dropout(0.2))\n",
        "model.add(Conv2D(64,(3,3),activation = 'relu',kernel_initializer='he_uniform',padding='same'))\n",
        "model.add(Conv2D(64,(3,3),activation = 'relu',kernel_initializer='he_uniform',padding='same'))\n",
        "model.add(MaxPooling2D((2,2)))\n",
        "model.add(Dropout(0.2))\n",
        "model.add(Conv2D(128,(3,3),activation = 'relu',kernel_initializer='he_uniform',padding='same'))\n",
        "model.add(Conv2D(128,(3,3),activation = 'relu',kernel_initializer='he_uniform',padding='same'))\n",
        "model.add(MaxPooling2D((2,2)))\n",
        "model.add(Dropout(0.2))\n",
        "model.add(Flatten())\n",
        "model.add(Dense(256,activation='relu',kernel_initializer = 'he_uniform'))\n",
        "model.add(Dropout(0.2))\n",
        "model.add(Dense(128,activation='relu',kernel_initializer = 'he_uniform'))\n",
        "model.add(Dropout(0.2))\n",
        "model.add(Dense(30,activation='softmax'))\n",
        "\n",
        "model.summary()\n",
        "     "
      ],
      "metadata": {
        "colab": {
          "base_uri": "https://localhost:8080/"
        },
        "id": "vH8_WfTma-aJ",
        "outputId": "070a8e6f-ffad-4aa5-e840-7bc9134512fc"
      },
      "execution_count": null,
      "outputs": [
        {
          "output_type": "stream",
          "name": "stdout",
          "text": [
            "Model: \"sequential\"\n",
            "_________________________________________________________________\n",
            " Layer (type)                Output Shape              Param #   \n",
            "=================================================================\n",
            " conv2d (Conv2D)             (None, 64, 64, 32)        896       \n",
            "                                                                 \n",
            " conv2d_1 (Conv2D)           (None, 64, 64, 32)        9248      \n",
            "                                                                 \n",
            " max_pooling2d (MaxPooling2D  (None, 32, 32, 32)       0         \n",
            " )                                                               \n",
            "                                                                 \n",
            " dropout (Dropout)           (None, 32, 32, 32)        0         \n",
            "                                                                 \n",
            " conv2d_2 (Conv2D)           (None, 32, 32, 64)        18496     \n",
            "                                                                 \n",
            " conv2d_3 (Conv2D)           (None, 32, 32, 64)        36928     \n",
            "                                                                 \n",
            " max_pooling2d_1 (MaxPooling  (None, 16, 16, 64)       0         \n",
            " 2D)                                                             \n",
            "                                                                 \n",
            " dropout_1 (Dropout)         (None, 16, 16, 64)        0         \n",
            "                                                                 \n",
            " conv2d_4 (Conv2D)           (None, 16, 16, 128)       73856     \n",
            "                                                                 \n",
            " conv2d_5 (Conv2D)           (None, 16, 16, 128)       147584    \n",
            "                                                                 \n",
            " max_pooling2d_2 (MaxPooling  (None, 8, 8, 128)        0         \n",
            " 2D)                                                             \n",
            "                                                                 \n",
            " dropout_2 (Dropout)         (None, 8, 8, 128)         0         \n",
            "                                                                 \n",
            " flatten (Flatten)           (None, 8192)              0         \n",
            "                                                                 \n",
            " dense (Dense)               (None, 256)               2097408   \n",
            "                                                                 \n",
            " dropout_3 (Dropout)         (None, 256)               0         \n",
            "                                                                 \n",
            " dense_1 (Dense)             (None, 128)               32896     \n",
            "                                                                 \n",
            " dropout_4 (Dropout)         (None, 128)               0         \n",
            "                                                                 \n",
            " dense_2 (Dense)             (None, 30)                3870      \n",
            "                                                                 \n",
            "=================================================================\n",
            "Total params: 2,421,182\n",
            "Trainable params: 2,421,182\n",
            "Non-trainable params: 0\n",
            "_________________________________________________________________\n"
          ]
        }
      ]
    },
    {
      "cell_type": "code",
      "source": [
        "# Thiết lập thông số\n",
        "from keras.optimizers import Adam\n",
        "model.compile( loss = 'categorical_crossentropy', optimizer=Adam(), metrics = ['accuracy'])"
      ],
      "metadata": {
        "id": "ymZOSlRRcdoJ"
      },
      "execution_count": null,
      "outputs": []
    },
    {
      "cell_type": "code",
      "source": [
        "# Training \n",
        "history = model.fit_generator( train, validation_data=test, epochs=80, steps_per_epoch=len(train), \n",
        "                        validation_steps=len(test))\n",
        "\n"
      ],
      "metadata": {
        "colab": {
          "base_uri": "https://localhost:8080/"
        },
        "id": "O6dqpf0ycx66",
        "outputId": "c6c4cfce-ea02-4e01-a614-1a91c082c1eb"
      },
      "execution_count": null,
      "outputs": [
        {
          "output_type": "stream",
          "name": "stderr",
          "text": [
            "<ipython-input-5-3f57a21db6d6>:2: UserWarning: `Model.fit_generator` is deprecated and will be removed in a future version. Please use `Model.fit`, which supports generators.\n",
            "  history = model.fit_generator( train, validation_data=test, epochs=80, steps_per_epoch=len(train),\n"
          ]
        },
        {
          "output_type": "stream",
          "name": "stdout",
          "text": [
            "Epoch 1/80\n",
            "52/52 [==============================] - 257s 5s/step - loss: 3.5230 - accuracy: 0.0451 - val_loss: 3.3849 - val_accuracy: 0.0625\n",
            "Epoch 2/80\n",
            "52/52 [==============================] - 60s 1s/step - loss: 3.2859 - accuracy: 0.0780 - val_loss: 3.2679 - val_accuracy: 0.1250\n",
            "Epoch 3/80\n",
            "52/52 [==============================] - 66s 1s/step - loss: 3.0441 - accuracy: 0.1353 - val_loss: 2.8725 - val_accuracy: 0.1875\n",
            "Epoch 4/80\n",
            "52/52 [==============================] - 61s 1s/step - loss: 2.4068 - accuracy: 0.3224 - val_loss: 2.0133 - val_accuracy: 0.5312\n",
            "Epoch 5/80\n",
            "52/52 [==============================] - 61s 1s/step - loss: 1.5333 - accuracy: 0.5472 - val_loss: 1.4748 - val_accuracy: 0.5833\n",
            "Epoch 6/80\n",
            "52/52 [==============================] - 63s 1s/step - loss: 1.1065 - accuracy: 0.6624 - val_loss: 1.1666 - val_accuracy: 0.7083\n",
            "Epoch 7/80\n",
            "52/52 [==============================] - 61s 1s/step - loss: 0.7864 - accuracy: 0.7453 - val_loss: 0.9832 - val_accuracy: 0.7604\n",
            "Epoch 8/80\n",
            "52/52 [==============================] - 62s 1s/step - loss: 0.5814 - accuracy: 0.8099 - val_loss: 0.8208 - val_accuracy: 0.7188\n",
            "Epoch 9/80\n",
            "52/52 [==============================] - 61s 1s/step - loss: 0.4469 - accuracy: 0.8513 - val_loss: 0.9049 - val_accuracy: 0.7500\n",
            "Epoch 10/80\n",
            "52/52 [==============================] - 61s 1s/step - loss: 0.3720 - accuracy: 0.8635 - val_loss: 0.8207 - val_accuracy: 0.7917\n",
            "Epoch 11/80\n",
            "52/52 [==============================] - 63s 1s/step - loss: 0.3647 - accuracy: 0.8732 - val_loss: 0.6607 - val_accuracy: 0.8438\n",
            "Epoch 12/80\n",
            "52/52 [==============================] - 63s 1s/step - loss: 0.3296 - accuracy: 0.8830 - val_loss: 0.9670 - val_accuracy: 0.8021\n",
            "Epoch 13/80\n",
            "52/52 [==============================] - 63s 1s/step - loss: 0.2891 - accuracy: 0.8964 - val_loss: 0.6740 - val_accuracy: 0.8333\n",
            "Epoch 14/80\n",
            "52/52 [==============================] - 62s 1s/step - loss: 0.2340 - accuracy: 0.8988 - val_loss: 0.7203 - val_accuracy: 0.8125\n",
            "Epoch 15/80\n",
            "52/52 [==============================] - 61s 1s/step - loss: 0.2363 - accuracy: 0.9025 - val_loss: 0.9123 - val_accuracy: 0.8438\n",
            "Epoch 16/80\n",
            "52/52 [==============================] - 63s 1s/step - loss: 0.2135 - accuracy: 0.9147 - val_loss: 0.6232 - val_accuracy: 0.8646\n",
            "Epoch 17/80\n",
            "52/52 [==============================] - 61s 1s/step - loss: 0.1886 - accuracy: 0.9183 - val_loss: 0.9138 - val_accuracy: 0.8438\n",
            "Epoch 18/80\n",
            "52/52 [==============================] - 61s 1s/step - loss: 0.1536 - accuracy: 0.9311 - val_loss: 1.2710 - val_accuracy: 0.8125\n",
            "Epoch 19/80\n",
            "52/52 [==============================] - 62s 1s/step - loss: 0.1838 - accuracy: 0.9214 - val_loss: 0.6226 - val_accuracy: 0.8542\n",
            "Epoch 20/80\n",
            "52/52 [==============================] - 61s 1s/step - loss: 0.1259 - accuracy: 0.9476 - val_loss: 1.1188 - val_accuracy: 0.8438\n",
            "Epoch 21/80\n",
            "52/52 [==============================] - 64s 1s/step - loss: 0.1747 - accuracy: 0.9281 - val_loss: 0.8919 - val_accuracy: 0.8229\n",
            "Epoch 22/80\n",
            "52/52 [==============================] - 62s 1s/step - loss: 0.1770 - accuracy: 0.9220 - val_loss: 1.0051 - val_accuracy: 0.8542\n",
            "Epoch 23/80\n",
            "52/52 [==============================] - 61s 1s/step - loss: 0.1979 - accuracy: 0.9226 - val_loss: 0.8030 - val_accuracy: 0.8542\n",
            "Epoch 24/80\n",
            "52/52 [==============================] - 61s 1s/step - loss: 0.1681 - accuracy: 0.9311 - val_loss: 0.6189 - val_accuracy: 0.8438\n",
            "Epoch 25/80\n",
            "52/52 [==============================] - 61s 1s/step - loss: 0.1556 - accuracy: 0.9226 - val_loss: 0.6982 - val_accuracy: 0.8750\n",
            "Epoch 26/80\n",
            "52/52 [==============================] - 64s 1s/step - loss: 0.1166 - accuracy: 0.9366 - val_loss: 0.9301 - val_accuracy: 0.8229\n",
            "Epoch 27/80\n",
            "52/52 [==============================] - 63s 1s/step - loss: 0.1143 - accuracy: 0.9421 - val_loss: 0.6752 - val_accuracy: 0.8646\n",
            "Epoch 28/80\n",
            "52/52 [==============================] - 61s 1s/step - loss: 0.1085 - accuracy: 0.9439 - val_loss: 0.7038 - val_accuracy: 0.8958\n",
            "Epoch 29/80\n",
            "52/52 [==============================] - 65s 1s/step - loss: 0.1164 - accuracy: 0.9415 - val_loss: 0.6197 - val_accuracy: 0.8750\n",
            "Epoch 30/80\n",
            "52/52 [==============================] - 61s 1s/step - loss: 0.1193 - accuracy: 0.9415 - val_loss: 0.7037 - val_accuracy: 0.8646\n",
            "Epoch 31/80\n",
            "52/52 [==============================] - 62s 1s/step - loss: 0.1136 - accuracy: 0.9439 - val_loss: 0.8510 - val_accuracy: 0.8125\n",
            "Epoch 32/80\n",
            "52/52 [==============================] - 61s 1s/step - loss: 0.1125 - accuracy: 0.9391 - val_loss: 0.8623 - val_accuracy: 0.8438\n",
            "Epoch 33/80\n",
            "52/52 [==============================] - 61s 1s/step - loss: 0.1167 - accuracy: 0.9433 - val_loss: 1.1642 - val_accuracy: 0.8646\n",
            "Epoch 34/80\n",
            "52/52 [==============================] - 61s 1s/step - loss: 0.1241 - accuracy: 0.9452 - val_loss: 0.7370 - val_accuracy: 0.8854\n",
            "Epoch 35/80\n",
            "52/52 [==============================] - 64s 1s/step - loss: 0.1403 - accuracy: 0.9385 - val_loss: 0.7814 - val_accuracy: 0.8646\n",
            "Epoch 36/80\n",
            "52/52 [==============================] - 62s 1s/step - loss: 0.1030 - accuracy: 0.9433 - val_loss: 0.8475 - val_accuracy: 0.8229\n",
            "Epoch 37/80\n",
            "52/52 [==============================] - 61s 1s/step - loss: 0.1138 - accuracy: 0.9324 - val_loss: 0.5040 - val_accuracy: 0.8646\n",
            "Epoch 38/80\n",
            "52/52 [==============================] - 65s 1s/step - loss: 0.0954 - accuracy: 0.9543 - val_loss: 1.0516 - val_accuracy: 0.8958\n",
            "Epoch 39/80\n",
            "52/52 [==============================] - 61s 1s/step - loss: 0.0904 - accuracy: 0.9555 - val_loss: 0.4817 - val_accuracy: 0.8854\n",
            "Epoch 40/80\n",
            "52/52 [==============================] - 64s 1s/step - loss: 0.1027 - accuracy: 0.9409 - val_loss: 0.6075 - val_accuracy: 0.8333\n",
            "Epoch 41/80\n",
            "52/52 [==============================] - 61s 1s/step - loss: 0.1198 - accuracy: 0.9391 - val_loss: 1.0198 - val_accuracy: 0.8438\n",
            "Epoch 42/80\n",
            "52/52 [==============================] - 61s 1s/step - loss: 0.1262 - accuracy: 0.9415 - val_loss: 0.6347 - val_accuracy: 0.8542\n",
            "Epoch 43/80\n",
            "52/52 [==============================] - 70s 1s/step - loss: 0.1369 - accuracy: 0.9330 - val_loss: 0.6179 - val_accuracy: 0.8750\n",
            "Epoch 44/80\n",
            "52/52 [==============================] - 61s 1s/step - loss: 0.0989 - accuracy: 0.9452 - val_loss: 0.9874 - val_accuracy: 0.8542\n",
            "Epoch 45/80\n",
            "52/52 [==============================] - 61s 1s/step - loss: 0.1251 - accuracy: 0.9354 - val_loss: 1.0389 - val_accuracy: 0.8125\n",
            "Epoch 46/80\n",
            "52/52 [==============================] - 63s 1s/step - loss: 0.0914 - accuracy: 0.9470 - val_loss: 0.8261 - val_accuracy: 0.8854\n",
            "Epoch 47/80\n",
            "52/52 [==============================] - 61s 1s/step - loss: 0.1169 - accuracy: 0.9421 - val_loss: 0.9226 - val_accuracy: 0.8333\n",
            "Epoch 48/80\n",
            "52/52 [==============================] - 63s 1s/step - loss: 0.0955 - accuracy: 0.9476 - val_loss: 0.6009 - val_accuracy: 0.8854\n",
            "Epoch 49/80\n",
            "52/52 [==============================] - 61s 1s/step - loss: 0.1047 - accuracy: 0.9506 - val_loss: 0.5376 - val_accuracy: 0.8958\n",
            "Epoch 50/80\n",
            "52/52 [==============================] - 61s 1s/step - loss: 0.0975 - accuracy: 0.9464 - val_loss: 0.7168 - val_accuracy: 0.8438\n",
            "Epoch 51/80\n",
            "52/52 [==============================] - 61s 1s/step - loss: 0.0846 - accuracy: 0.9531 - val_loss: 0.5951 - val_accuracy: 0.8438\n",
            "Epoch 52/80\n",
            "52/52 [==============================] - 62s 1s/step - loss: 0.0874 - accuracy: 0.9561 - val_loss: 0.6790 - val_accuracy: 0.8646\n",
            "Epoch 53/80\n",
            "52/52 [==============================] - 61s 1s/step - loss: 0.1004 - accuracy: 0.9519 - val_loss: 0.9565 - val_accuracy: 0.8542\n",
            "Epoch 54/80\n",
            "52/52 [==============================] - 64s 1s/step - loss: 0.0941 - accuracy: 0.9427 - val_loss: 0.4790 - val_accuracy: 0.8542\n",
            "Epoch 55/80\n",
            "52/52 [==============================] - 63s 1s/step - loss: 0.0798 - accuracy: 0.9512 - val_loss: 0.8737 - val_accuracy: 0.8438\n",
            "Epoch 56/80\n",
            "52/52 [==============================] - 61s 1s/step - loss: 0.1018 - accuracy: 0.9458 - val_loss: 0.7307 - val_accuracy: 0.8438\n",
            "Epoch 57/80\n",
            "52/52 [==============================] - 63s 1s/step - loss: 0.1105 - accuracy: 0.9500 - val_loss: 0.5599 - val_accuracy: 0.8646\n",
            "Epoch 58/80\n",
            "52/52 [==============================] - 61s 1s/step - loss: 0.1117 - accuracy: 0.9403 - val_loss: 0.4590 - val_accuracy: 0.8750\n",
            "Epoch 59/80\n",
            "52/52 [==============================] - 60s 1s/step - loss: 0.1053 - accuracy: 0.9452 - val_loss: 0.4811 - val_accuracy: 0.8646\n",
            "Epoch 60/80\n",
            "52/52 [==============================] - 63s 1s/step - loss: 0.0916 - accuracy: 0.9452 - val_loss: 0.6508 - val_accuracy: 0.8750\n",
            "Epoch 61/80\n",
            "52/52 [==============================] - 61s 1s/step - loss: 0.0774 - accuracy: 0.9525 - val_loss: 0.6390 - val_accuracy: 0.8750\n",
            "Epoch 62/80\n",
            "52/52 [==============================] - 61s 1s/step - loss: 0.0919 - accuracy: 0.9531 - val_loss: 0.9800 - val_accuracy: 0.8333\n",
            "Epoch 63/80\n",
            "52/52 [==============================] - 63s 1s/step - loss: 0.0839 - accuracy: 0.9525 - val_loss: 0.7627 - val_accuracy: 0.8542\n",
            "Epoch 64/80\n",
            "52/52 [==============================] - 62s 1s/step - loss: 0.0901 - accuracy: 0.9439 - val_loss: 0.9035 - val_accuracy: 0.8646\n",
            "Epoch 65/80\n",
            "52/52 [==============================] - 61s 1s/step - loss: 0.0932 - accuracy: 0.9500 - val_loss: 0.5955 - val_accuracy: 0.8542\n",
            "Epoch 66/80\n",
            "52/52 [==============================] - 61s 1s/step - loss: 0.0942 - accuracy: 0.9488 - val_loss: 0.8231 - val_accuracy: 0.8646\n",
            "Epoch 67/80\n",
            "52/52 [==============================] - 61s 1s/step - loss: 0.0844 - accuracy: 0.9494 - val_loss: 0.6369 - val_accuracy: 0.8438\n",
            "Epoch 68/80\n",
            "52/52 [==============================] - 65s 1s/step - loss: 0.0794 - accuracy: 0.9512 - val_loss: 0.6506 - val_accuracy: 0.9062\n",
            "Epoch 69/80\n",
            "52/52 [==============================] - 61s 1s/step - loss: 0.0917 - accuracy: 0.9482 - val_loss: 0.7498 - val_accuracy: 0.8646\n",
            "Epoch 70/80\n",
            "52/52 [==============================] - 61s 1s/step - loss: 0.1173 - accuracy: 0.9385 - val_loss: 1.1737 - val_accuracy: 0.8854\n",
            "Epoch 71/80\n",
            "52/52 [==============================] - 63s 1s/step - loss: 0.1394 - accuracy: 0.9354 - val_loss: 0.3405 - val_accuracy: 0.9062\n",
            "Epoch 72/80\n",
            "52/52 [==============================] - 61s 1s/step - loss: 0.0948 - accuracy: 0.9476 - val_loss: 0.2888 - val_accuracy: 0.9062\n",
            "Epoch 73/80\n",
            "52/52 [==============================] - 61s 1s/step - loss: 0.0925 - accuracy: 0.9580 - val_loss: 0.3942 - val_accuracy: 0.8646\n",
            "Epoch 74/80\n",
            "52/52 [==============================] - 63s 1s/step - loss: 0.1213 - accuracy: 0.9378 - val_loss: 0.8576 - val_accuracy: 0.8021\n",
            "Epoch 75/80\n",
            "52/52 [==============================] - 61s 1s/step - loss: 0.1212 - accuracy: 0.9433 - val_loss: 0.6251 - val_accuracy: 0.8438\n",
            "Epoch 76/80\n",
            "52/52 [==============================] - 63s 1s/step - loss: 0.0801 - accuracy: 0.9543 - val_loss: 0.6921 - val_accuracy: 0.8750\n",
            "Epoch 77/80\n",
            "52/52 [==============================] - 61s 1s/step - loss: 0.0921 - accuracy: 0.9531 - val_loss: 0.5226 - val_accuracy: 0.9167\n",
            "Epoch 78/80\n",
            "52/52 [==============================] - 62s 1s/step - loss: 0.0843 - accuracy: 0.9543 - val_loss: 0.8378 - val_accuracy: 0.8438\n",
            "Epoch 79/80\n",
            "52/52 [==============================] - 64s 1s/step - loss: 0.0748 - accuracy: 0.9549 - val_loss: 0.6500 - val_accuracy: 0.8542\n",
            "Epoch 80/80\n",
            "52/52 [==============================] - 61s 1s/step - loss: 0.0738 - accuracy: 0.9573 - val_loss: 1.2244 - val_accuracy: 0.8750\n"
          ]
        }
      ]
    },
    {
      "cell_type": "code",
      "source": [
        "#Tạo file inception\n",
        "from tensorflow.keras.models import load_model\n",
        "\n",
        "model.save('/content/drive/MyDrive/Dataset/model.h5')"
      ],
      "metadata": {
        "id": "gknhfJngjIXr"
      },
      "execution_count": null,
      "outputs": []
    },
    {
      "cell_type": "code",
      "source": [
        "from tensorflow.keras.preprocessing import image\n",
        "model=load_model('/content/drive/MyDrive/Dataset/model.h5')\n",
        "model"
      ],
      "metadata": {
        "colab": {
          "base_uri": "https://localhost:8080/"
        },
        "id": "Kgrpqe41jV_n",
        "outputId": "14303b53-b702-41d2-9536-92df798a7118"
      },
      "execution_count": null,
      "outputs": [
        {
          "output_type": "execute_result",
          "data": {
            "text/plain": [
              "<keras.engine.sequential.Sequential at 0x7fb281665f00>"
            ]
          },
          "metadata": {},
          "execution_count": 8
        }
      ]
    },
    {
      "cell_type": "code",
      "source": [
        "import matplotlib.pyplot as plt\n",
        "score = model.evaluate(test,verbose=0)\n",
        "print('Test loss= ',score[0])\n",
        "print('Test accuracy= ',score[1])\n",
        "plt.plot(history.history['accuracy'])\n",
        "plt.plot(history.history['val_accuracy'])\n",
        "plt.title('Model Accuracy')\n",
        "plt.ylabel('accuracy')\n",
        "plt.xlabel('epoch')\n",
        "plt.legend(['train','validation'],loc='upper left')"
      ],
      "metadata": {
        "colab": {
          "base_uri": "https://localhost:8080/",
          "height": 527
        },
        "id": "a89YQ1fyfeZT",
        "outputId": "49c7b8fc-ce69-4982-b339-398667076051"
      },
      "execution_count": null,
      "outputs": [
        {
          "output_type": "stream",
          "name": "stdout",
          "text": [
            "Test loss=  0.9933533668518066\n",
            "Test accuracy=  0.8541666865348816\n"
          ]
        },
        {
          "output_type": "execute_result",
          "data": {
            "text/plain": [
              "<matplotlib.legend.Legend at 0x7fb281665ff0>"
            ]
          },
          "metadata": {},
          "execution_count": 7
        },
        {
          "output_type": "display_data",
          "data": {
            "text/plain": [
              "<Figure size 640x480 with 1 Axes>"
            ],
            "image/png": "[encoded data removed]"
          },
          "metadata": {}
        }
      ]
    },
    {
      "cell_type": "code",
      "source": [
        "\n",
        "import pandas as pd\n",
        "clases = pd.read_csv('/content/drive/MyDrive/testAIfinal/Dataset_trafficsignsVN/class.csv')\n",
        "clases = list(clases)\n",
        "clases"
      ],
      "metadata": {
        "colab": {
          "base_uri": "https://localhost:8080/"
        },
        "id": "BQ1T_w57fmbF",
        "outputId": "b4d8703a-9e82-4230-fd51-e1503e71f856"
      },
      "execution_count": null,
      "outputs": [
        {
          "output_type": "execute_result",
          "data": {
            "text/plain": [
              "['Duong Cam',\n",
              " 'Cam Di Nguoc Chieu',\n",
              " 'Cam O To',\n",
              " ' Cam O To Re Phai',\n",
              " 'Cam O To Re Trai',\n",
              " 'Cam Xe May',\n",
              " 'Cam O To Va Xe May',\n",
              " 'Cam Xe Tai',\n",
              " 'Cam Xe Tai Tren 2.5 tan',\n",
              " ' Cam O To Khach Va O To',\n",
              " 'Cam O To Ro-Mooc',\n",
              " 'Cam May Keo',\n",
              " 'Cam Xe Dap',\n",
              " 'Cam Xe Dap Tho',\n",
              " 'Cam Xe 3 va 4 Banh Tho So',\n",
              " 'Cam Nguoi Di Bo',\n",
              " 'Cam Xe Keo Day',\n",
              " 'Cam Xe Suc Vat Keo',\n",
              " 'Han Che Trong Luong Xe',\n",
              " 'Han Che Trong Luong Truc Xe',\n",
              " 'Han Che Chieu Cao Xe',\n",
              " 'Han Che Chieu Rong Xe',\n",
              " 'Han Che Chieu Dai O To',\n",
              " 'Han Che Chieu Dai Ro-Mooc',\n",
              " 'Khoang Cach Toi Thieu Giua Hai Xe',\n",
              " 'Dung Lai',\n",
              " 'Cam Re Trai',\n",
              " 'Cam Re phai',\n",
              " 'Cam Quay Dau',\n",
              " 'Cam O To Quay Dau']"
            ]
          },
          "metadata": {},
          "execution_count": 10
        }
      ]
    },
    {
      "cell_type": "code",
      "source": [
        "import numpy as np\n",
        "from tensorflow.keras.utils import load_img,img_to_array\n",
        "import matplotlib.pyplot as plt\n",
        "img = load_img('/content/drive/MyDrive/testAIfinal/Dataset_trafficsignsVN/Value/101.jpg', target_size = (64,64))\n",
        "plt.imshow(img)\n",
        "img = img_to_array(img)\n",
        "img = img.reshape(1,64,64,3) \n",
        "img = img.astype('float32')\n",
        "img = img/255\n",
        "print(clases[np.argmax(model.predict(img))])"
      ],
      "metadata": {
        "colab": {
          "base_uri": "https://localhost:8080/",
          "height": 469
        },
        "id": "wp0EbmJHg8Oo",
        "outputId": "e540ee73-703f-4815-f174-52a7a4cf0a91"
      },
      "execution_count": null,
      "outputs": [
        {
          "output_type": "stream",
          "name": "stdout",
          "text": [
            "1/1 [==============================] - 0s 30ms/step\n",
            "Duong Cam\n"
          ]
        },
        {
          "output_type": "display_data",
          "data": {
            "text/plain": [
              "<Figure size 640x480 with 1 Axes>"
            ],
            "image/png": "[encoded data removed]"
          },
          "metadata": {}
        }
      ]
    }
  ],
  "metadata": {
    "colab": {
      "provenance": [],
      "include_colab_link": true
    },
    "gpuClass": "standard",
    "kernelspec": {
      "display_name": "Python 3",
      "name": "python3"
    },
    "language_info": {
      "name": "python"
    }
  },
  "nbformat": 4,
  "nbformat_minor": 0
}