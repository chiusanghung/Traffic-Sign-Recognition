{
  "nbformat": 4,
  "nbformat_minor": 0,
  "metadata": {
    "colab": {
      "provenance": [],
      "include_colab_link": true
    },
    "kernelspec": {
      "name": "python3",
      "display_name": "Python 3"
    },
    "language_info": {
      "name": "python"
    }
  },
  "cells": [
    {
      "cell_type": "markdown",
      "metadata": {
        "id": "view-in-github",
        "colab_type": "text"
      },
      "source": [
        "<a href=\"https://colab.research.google.com/github/chiusanghung/Traffic-Sign-Recognition/blob/main/WebApp.ipynb\" target=\"_parent\"><img src=\"https://colab.research.google.com/assets/colab-badge.svg\" alt=\"Open In Colab\"/></a>"
      ]
    },
    {
      "cell_type": "code",
      "source": [
        "from google.colab import drive\n",
        "drive.mount('/content/drive')"
      ],
      "metadata": {
        "id": "nkxVQuYJSDFX",
        "outputId": "9dbfc42d-5129-400b-8bc5-1ea909f93af1",
        "colab": {
          "base_uri": "https://localhost:8080/"
        }
      },
      "execution_count": 1,
      "outputs": [
        {
          "output_type": "stream",
          "name": "stdout",
          "text": [
            "Mounted at /content/drive\n"
          ]
        }
      ]
    },
    {
      "cell_type": "code",
      "execution_count": 2,
      "metadata": {
        "id": "vosWayOzqIye"
      },
      "outputs": [],
      "source": [
        "from keras.models import load_model\n",
        "import pandas as pd\n",
        "# Load model Nhận diện \n",
        "model = load_model(\"/content/drive/MyDrive/Dataset/model.h5\")\n",
        "#load nhãn cho model\n",
        "classes = pd.read_csv('/content/drive/MyDrive/Dataset/class.csv')\n",
        "classes = list(classes)"
      ]
    },
    {
      "cell_type": "code",
      "source": [
        "import gradio as gr\n",
        "import tensorflow as tf\n",
        "from tensorflow import keras\n",
        "import matplotlib.pyplot as plt\n",
        "import numpy as np\n",
        "from tensorflow.keras.utils import load_img,img_to_array"
      ],
      "metadata": {
        "id": "CX_sxuL3qSpY"
      },
      "execution_count": 4,
      "outputs": []
    },
    {
      "cell_type": "code",
      "source": [
        "def predict_object(img):\n",
        "  img = img_to_array(img)\n",
        "  img = img.reshape(1,64,64,3) \n",
        "  print(classes[np.argmax(model.predict(img),axis=1)[0]])\n",
        "  prediction= model.predict(img)[0]\n",
        "  # cf = {classes[i]: float(predict_result[i]) for ỉ in range(len(predict_result))}\n",
        "  cf = {classes[i]: float(prediction[i]) for i in range(20)}\n",
        "  print(cf)\n",
        "  return cf"
      ],
      "metadata": {
        "id": "tOyk08N2qWsQ"
      },
      "execution_count": 5,
      "outputs": []
    },
    {
      "cell_type": "code",
      "source": [
        "gr.Interface(fn = predict_object,\n",
        "             inputs = gr.inputs.Image(shape = (64,64)),\n",
        "             outputs = gr.outputs.Label(num_top_classes=3),\n",
        "             interpretation='default'\n",
        "             ).launch(debug = True)"
      ],
      "metadata": {
        "colab": {
          "base_uri": "https://localhost:8080/",
          "height": 845
        },
        "id": "iEWzC03nqY_c",
        "outputId": "7fd43519-c2e0-4262-bc2f-26a159f4752f"
      },
      "execution_count": null,
      "outputs": [
        {
          "output_type": "stream",
          "name": "stderr",
          "text": [
            "/usr/local/lib/python3.10/dist-packages/gradio/inputs.py:259: UserWarning: Usage of gradio.inputs is deprecated, and will not be supported in the future, please import your component from gradio.components\n",
            "  warnings.warn(\n",
            "/usr/local/lib/python3.10/dist-packages/gradio/inputs.py:262: UserWarning: `optional` parameter is deprecated, and it has no effect\n",
            "  super().__init__(\n",
            "/usr/local/lib/python3.10/dist-packages/gradio/outputs.py:197: UserWarning: Usage of gradio.outputs is deprecated, and will not be supported in the future, please import your components from gradio.components\n",
            "  warnings.warn(\n",
            "/usr/local/lib/python3.10/dist-packages/gradio/outputs.py:200: UserWarning: The 'type' parameter has been deprecated. Use the Number component instead.\n",
            "  super().__init__(num_top_classes=num_top_classes, type=type, label=label)\n"
          ]
        },
        {
          "output_type": "stream",
          "name": "stdout",
          "text": [
            "Colab notebook detected. This cell will run indefinitely so that you can see errors and logs. To turn off, set debug=False in launch().\n",
            "Note: opening Chrome Inspector may crash demo inside Colab notebooks.\n",
            "\n",
            "To create a public link, set `share=True` in `launch()`.\n"
          ]
        },
        {
          "output_type": "display_data",
          "data": {
            "text/plain": [
              "<IPython.core.display.Javascript object>"
            ],
            "application/javascript": [
              "(async (port, path, width, height, cache, element) => {\n",
              "                        if (!google.colab.kernel.accessAllowed && !cache) {\n",
              "                            return;\n",
              "                        }\n",
              "                        element.appendChild(document.createTextNode(''));\n",
              "                        const url = await google.colab.kernel.proxyPort(port, {cache});\n",
              "\n",
              "                        const external_link = document.createElement('div');\n",
              "                        external_link.innerHTML = `\n",
              "                            <div style=\"font-family: monospace; margin-bottom: 0.5rem\">\n",
              "                                Running on <a href=${new URL(path, url).toString()} target=\"_blank\">\n",
              "                                    https://localhost:${port}${path}\n",
              "                                </a>\n",
              "                            </div>\n",
              "                        `;\n",
              "                        element.appendChild(external_link);\n",
              "\n",
              "                        const iframe = document.createElement('iframe');\n",
              "                        iframe.src = new URL(path, url).toString();\n",
              "                        iframe.height = height;\n",
              "                        iframe.allow = \"autoplay; camera; microphone; clipboard-read; clipboard-write;\"\n",
              "                        iframe.width = width;\n",
              "                        iframe.style.border = 0;\n",
              "                        element.appendChild(iframe);\n",
              "                    })(7860, \"/\", \"100%\", 500, false, window.element)"
            ]
          },
          "metadata": {}
        },
        {
          "output_type": "stream",
          "name": "stdout",
          "text": [
            "1/1 [==============================] - 0s 38ms/step\n",
            "Cam Nguoi Di Bo\n",
            "1/1 [==============================] - 0s 34ms/step\n",
            "{'Duong Cam': 0.0, 'Cam Di Nguoc Chieu': 0.0, 'Cam O To': 0.0, ' Cam O To Re Phai': 0.0, 'Cam O To Re Trai': 0.0, 'Cam Xe May': 0.0, 'Cam O To Va Xe May': 0.0, 'Cam Xe Tai': 0.0, 'Cam Xe Tai Tren 2.5 tan': 0.0, ' Cam O To Khach Va O To': 0.0, 'Cam O To Ro-Mooc': 0.0, 'Cam May Keo': 0.0, 'Cam Xe Dap': 0.0, 'Cam Xe Dap Tho': 0.0, 'Cam Xe 3 va 4 Banh Tho So': 0.0, 'Cam Nguoi Di Bo': 1.0, 'Cam Xe Keo Day': 0.0, 'Cam Xe Suc Vat Keo': 0.0, 'Han Che Trong Luong Xe': 0.0, 'Han Che Trong Luong Truc Xe': 0.0}\n"
          ]
        }
      ]
    }
  ]
}